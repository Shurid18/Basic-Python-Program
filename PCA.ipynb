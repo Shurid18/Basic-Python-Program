{
 "cells": [
  {
   "cell_type": "code",
   "execution_count": null,
   "id": "fbbcc232",
   "metadata": {},
   "outputs": [],
   "source": [
    "#Following are some model performance information\n",
    "\n",
    "#Accurate answer = 10\n",
    "\n",
    "#Total question = 30\n",
    "\n",
    "#True Positive = 8\n",
    "\n",
    "#False Positive = 6\n",
    "\n",
    "#False Nagetive = 4\n",
    "\n",
    "#Based on the above information, find out the following result.\n",
    "\n",
    "#Accuracy =\n",
    "\n",
    "#Precision =\n",
    "\n",
    "#Recall =\n",
    "\n",
    "#F1 =0"
   ]
  },
  {
   "cell_type": "code",
   "execution_count": 1,
   "id": "c64a4981",
   "metadata": {},
   "outputs": [
    {
     "name": "stdout",
     "output_type": "stream",
     "text": [
      "Accuracy: 0.33\n",
      "Precision: 0.57\n",
      "Recall: 0.67\n",
      "F1 Score: 0.62\n"
     ]
    }
   ],
   "source": [
    "import numpy as np\n",
    "TP = 8\n",
    "FP = 6\n",
    "FN = 4\n",
    "TN = 10 - TP \n",
    "TN = 2\n",
    "total = 30\n",
    "y_true = np.array([1]*TP + [1]*FN + [0]*FP + [0]*TN)  \n",
    "y_pred = np.array([1]*TP + [0]*FN + [1]*FP + [0]*TN)  \n",
    "accuracy = np.sum(y_true == y_pred) / total\n",
    "precision = TP / (TP + FP)\n",
    "recall = TP / (TP + FN)\n",
    "f1 = 2 * (precision * recall) / (precision + recall)\n",
    "print(\"Accuracy: {:.2f}\".format(accuracy))\n",
    "print(\"Precision: {:.2f}\".format(precision))\n",
    "print(\"Recall: {:.2f}\".format(recall))\n",
    "print(\"F1 Score: {:.2f}\".format(f1))"
   ]
  }
 ],
 "metadata": {
  "kernelspec": {
   "display_name": "Python 3",
   "language": "python",
   "name": "python3"
  },
  "language_info": {
   "codemirror_mode": {
    "name": "ipython",
    "version": 3
   },
   "file_extension": ".py",
   "mimetype": "text/x-python",
   "name": "python",
   "nbconvert_exporter": "python",
   "pygments_lexer": "ipython3",
   "version": "3.8.8"
  }
 },
 "nbformat": 4,
 "nbformat_minor": 5
}
