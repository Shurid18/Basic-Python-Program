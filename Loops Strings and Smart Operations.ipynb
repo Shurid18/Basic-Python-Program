{
 "cells": [
  {
   "cell_type": "code",
   "execution_count": 21,
   "id": "f9619797-7713-4e92-be44-afe7b9fbca47",
   "metadata": {},
   "outputs": [
    {
     "name": "stdin",
     "output_type": "stream",
     "text": [
      "Enter the first number: 22\n",
      "Enter the second number: 12.8\n"
     ]
    },
    {
     "name": "stdout",
     "output_type": "stream",
     "text": [
      "The average is: 17.4\n"
     ]
    }
   ],
   "source": [
    "#Problem: 01-Write a function that takes two numbers as input and returns their average. Call the function with different values.\n",
    "def calculate_average():\n",
    "    num1=float(input(\"Enter the first number:\"))\n",
    "    num2=float(input(\"Enter the second number:\"))\n",
    "    average=(num1+num2)/2\n",
    "    return average\n",
    "result=calculate_average()\n",
    "print(\"The average is:\",result)"
   ]
  },
  {
   "cell_type": "code",
   "execution_count": 27,
   "id": "279cfb6c-3729-412d-855d-2cdf9361f7f3",
   "metadata": {},
   "outputs": [
    {
     "name": "stdout",
     "output_type": "stream",
     "text": [
      "['apple', 'banana', 'cherry', 'grape', 'kiwi']\n"
     ]
    }
   ],
   "source": [
    "#Problem: 02-Write a function that sorts a list of strings alphabetically. [\"apple\", \"banana\", \"cherry\", \"kiwi\", \"grape\"].\n",
    "def sort_strings_alphabetically(strings_list):\n",
    "    strings_list.sort()\n",
    "    return strings_list\n",
    "fruits=[\"apple\", \"banana\", \"cherry\", \"kiwi\", \"grape\"]\n",
    "sorted_fruits=sort_strings_alphabetically(fruits)\n",
    "print(sorted_fruits)"
   ]
  },
  {
   "cell_type": "code",
   "execution_count": 43,
   "id": "c623199e-da71-4463-955f-963e931bac02",
   "metadata": {},
   "outputs": [
    {
     "name": "stdout",
     "output_type": "stream",
     "text": [
      "[1, 5]\n"
     ]
    }
   ],
   "source": [
    "#Problem: 03-Write a Python program that creates a new list containing only the duplicate elements from the given list: [1, 5, 6, 5, 1, 2, 3].\n",
    "def find_duplicates(input_list):\n",
    "    seen=set()\n",
    "    duplicates=[]\n",
    "    for item in input_list:\n",
    "        if item in seen :\n",
    "            duplicates.append(item)\n",
    "        else:\n",
    "            seen.add(item)\n",
    "    return list(dict.fromkeys(duplicates))\n",
    "numbers=[1, 5, 6, 5, 1, 2, 3]\n",
    "numbers.sort()\n",
    "print(find_duplicates(numbers))"
   ]
  }
 ],
 "metadata": {
  "kernelspec": {
   "display_name": "Python 3",
   "language": "python",
   "name": "python3"
  },
  "language_info": {
   "codemirror_mode": {
    "name": "ipython",
    "version": 3
   },
   "file_extension": ".py",
   "mimetype": "text/x-python",
   "name": "python",
   "nbconvert_exporter": "python",
   "pygments_lexer": "ipython3",
   "version": "3.8.8"
  }
 },
 "nbformat": 4,
 "nbformat_minor": 5
}
