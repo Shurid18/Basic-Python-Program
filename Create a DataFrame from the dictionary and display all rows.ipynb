{
 "cells": [
  {
   "cell_type": "code",
   "execution_count": 1,
   "id": "45dfa11d",
   "metadata": {},
   "outputs": [
    {
     "name": "stdout",
     "output_type": "stream",
     "text": [
      "DataFrame with TotalSales:\n",
      "   ProductID     Product     Category  UnitsSold  UnitPrice  TotalSales\n",
      "0        101      Laptop  Electronics         20        750       15000\n",
      "1        102  Headphones  Electronics         35         50        1750\n",
      "2        103    Keyboard  Electronics         50         30        1500\n",
      "3        101      Laptop  Electronics         25        750       18750\n",
      "4        105       Mouse  Accessories         60         25        1500\n",
      "5        106      Webcam  Accessories         25         45        1125\n",
      "6        107     Charger  Accessories         40         20         800\n",
      "\n",
      "\n",
      "DataFrame after removing duplicates:\n",
      "   ProductID     Product     Category  UnitsSold  UnitPrice  TotalSales\n",
      "0        101      Laptop  Electronics         20        750       15000\n",
      "1        102  Headphones  Electronics         35         50        1750\n",
      "2        103    Keyboard  Electronics         50         30        1500\n",
      "4        105       Mouse  Accessories         60         25        1500\n",
      "5        106      Webcam  Accessories         25         45        1125\n",
      "6        107     Charger  Accessories         40         20         800\n",
      "\n",
      "\n",
      "Product(s) with lowest TotalSales:\n",
      "   Product  TotalSales\n",
      "6  Charger         800\n"
     ]
    }
   ],
   "source": [
    "import pandas as pd\n",
    "\n",
    "data = {\n",
    "    'ProductID': [101, 102, 103, 101, 105, 106, 107],\n",
    "    'Product': ['Laptop', 'Headphones', 'Keyboard', 'Laptop', 'Mouse', 'Webcam', 'Charger'],\n",
    "    'Category': ['Electronics', 'Electronics', 'Electronics', 'Electronics', 'Accessories', 'Accessories', 'Accessories'],\n",
    "    'UnitsSold': [20, 35, 50, 25, 60, 25, 40],\n",
    "    'UnitPrice': [750, 50, 30, 750, 25, 45, 20]\n",
    "}\n",
    "\n",
    "# Task 1: \n",
    "df = pd.DataFrame(data)\n",
    "df['TotalSales'] = df['UnitsSold'] * df['UnitPrice']\n",
    "print(\"DataFrame with TotalSales:\")\n",
    "print(df)\n",
    "print(\"\\n\")\n",
    "\n",
    "# Task 2:\n",
    "deduplicated_df = df.drop_duplicates(subset='ProductID', keep='first')\n",
    "print(\"DataFrame after removing duplicates:\")\n",
    "print(deduplicated_df)\n",
    "print(\"\\n\")\n",
    "\n",
    "# Task 3: \n",
    "min_sales = deduplicated_df['TotalSales'].min()\n",
    "lowest_sales_products = deduplicated_df[deduplicated_df['TotalSales'] == min_sales][['Product', 'TotalSales']]\n",
    "print(\"Product(s) with lowest TotalSales:\")\n",
    "print(lowest_sales_products)"
   ]
  },
  {
   "cell_type": "code",
   "execution_count": null,
   "id": "3383671c",
   "metadata": {},
   "outputs": [],
   "source": []
  }
 ],
 "metadata": {
  "kernelspec": {
   "display_name": "Python 3",
   "language": "python",
   "name": "python3"
  },
  "language_info": {
   "codemirror_mode": {
    "name": "ipython",
    "version": 3
   },
   "file_extension": ".py",
   "mimetype": "text/x-python",
   "name": "python",
   "nbconvert_exporter": "python",
   "pygments_lexer": "ipython3",
   "version": "3.8.8"
  }
 },
 "nbformat": 4,
 "nbformat_minor": 5
}
