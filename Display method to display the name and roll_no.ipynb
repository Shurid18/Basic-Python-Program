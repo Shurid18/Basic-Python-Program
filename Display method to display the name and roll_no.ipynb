{
 "cells": [
  {
   "cell_type": "code",
   "execution_count": null,
   "id": "0c63513e",
   "metadata": {},
   "outputs": [],
   "source": [
    "#Create a class named 'Student' with the variable 'name' and 'roll_no'. And write a Display method to display the name and roll_no. Assign the value of roll_no as '2' and that of name as \"John\" by creating an object of the class Student.\n",
    "class Student:\n",
    "    def __init__(self, name, roll_no):\n",
    "        self.name = name          \n",
    "        self.roll_no = roll_no    \n",
    "    def display(self):            \n",
    "        print(f\"Name: {self.name}, Roll No: {self.roll_no}\")\n",
    "student1 = Student(\"John\", 2)   \n",
    "student1.display()"
   ]
  }
 ],
 "metadata": {
  "kernelspec": {
   "display_name": "Python 3",
   "language": "python",
   "name": "python3"
  },
  "language_info": {
   "codemirror_mode": {
    "name": "ipython",
    "version": 3
   },
   "file_extension": ".py",
   "mimetype": "text/x-python",
   "name": "python",
   "nbconvert_exporter": "python",
   "pygments_lexer": "ipython3",
   "version": "3.8.8"
  }
 },
 "nbformat": 4,
 "nbformat_minor": 5
}
