{
 "cells": [
  {
   "cell_type": "code",
   "execution_count": 1,
   "id": "7eb31ff3",
   "metadata": {},
   "outputs": [
    {
     "name": "stdout",
     "output_type": "stream",
     "text": [
      "Enter hours:6\n",
      "6.0 hours=360.0 minutes\n"
     ]
    }
   ],
   "source": [
    "#Write a function to make an hour-to-minute converter.\n",
    "def time_converter():\n",
    "    hours= float(input(\"Enter hours:\"))\n",
    "    minutes= hours*60\n",
    "    print(f\"{hours} hours={minutes} minutes\")\n",
    "time_converter()"
   ]
  },
  {
   "cell_type": "code",
   "execution_count": null,
   "id": "551ce0df",
   "metadata": {},
   "outputs": [],
   "source": []
  }
 ],
 "metadata": {
  "kernelspec": {
   "display_name": "Python 3",
   "language": "python",
   "name": "python3"
  },
  "language_info": {
   "codemirror_mode": {
    "name": "ipython",
    "version": 3
   },
   "file_extension": ".py",
   "mimetype": "text/x-python",
   "name": "python",
   "nbconvert_exporter": "python",
   "pygments_lexer": "ipython3",
   "version": "3.8.8"
  }
 },
 "nbformat": 4,
 "nbformat_minor": 5
}
