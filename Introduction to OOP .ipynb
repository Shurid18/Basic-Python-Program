{
 "cells": [
  {
   "cell_type": "code",
   "execution_count": 1,
   "id": "c1a4d474-2086-4774-a6a2-7b914d387cf7",
   "metadata": {},
   "outputs": [
    {
     "name": "stdout",
     "output_type": "stream",
     "text": [
      "Name:Alice, Age:25\n"
     ]
    }
   ],
   "source": [
    "\"\"\"Assignment: 01 Introduction to OOP Concepts\n",
    "Introduction to OOP Concepts\n",
    "Create a class Person with attributes name and age. Create an object and display its details.\n",
    "Input: Person(\"Alice\", 25)\n",
    "Output: Name: Alice, Age: 25\"\"\"\n",
    "\n",
    "class Person:\n",
    "    def __init__(self, name, age):\n",
    "        self.name=name\n",
    "        self.age=age\n",
    "    def display_details(self):\n",
    "        print(f\"Name:{self.name}, Age:{self.age}\")\n",
    "input=Person(\"Alice\",\"25\")\n",
    "input.display_details()"
   ]
  },
  {
   "cell_type": "code",
   "execution_count": null,
   "id": "202b7f37-3477-429f-9baf-7ed5c889bd68",
   "metadata": {},
   "outputs": [],
   "source": []
  }
 ],
 "metadata": {
  "kernelspec": {
   "display_name": "Python 3",
   "language": "python",
   "name": "python3"
  },
  "language_info": {
   "codemirror_mode": {
    "name": "ipython",
    "version": 3
   },
   "file_extension": ".py",
   "mimetype": "text/x-python",
   "name": "python",
   "nbconvert_exporter": "python",
   "pygments_lexer": "ipython3",
   "version": "3.8.8"
  }
 },
 "nbformat": 4,
 "nbformat_minor": 5
}
