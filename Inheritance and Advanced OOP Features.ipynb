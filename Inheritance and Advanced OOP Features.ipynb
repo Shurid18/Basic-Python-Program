{
 "cells": [
  {
   "cell_type": "code",
   "execution_count": 4,
   "id": "650c9f9f-a44b-4fd0-9cf5-f8847b0ca50b",
   "metadata": {},
   "outputs": [
    {
     "name": "stdout",
     "output_type": "stream",
     "text": [
      "Animals make different sounds.\n",
      "Dog barks!\n"
     ]
    }
   ],
   "source": [
    "#Assignment: 02 Inheritance and Advanced OOP Features\n",
    "#Inheritance and Advanced OOP Features:\n",
    "#Create a base class Animal and a derived class Dog that inherits from Animal.\n",
    "\n",
    "class Animal:\n",
    "    def speak(self):\n",
    "        print(\"Animals make different sounds.\")\n",
    "        \n",
    "class Dog(Animal):\n",
    "    def speak(self):  \n",
    "        print(\"Dog barks!\")\n",
    "\n",
    "animal = Animal()\n",
    "dog = Dog()\n",
    "\n",
    "animal.speak()  \n",
    "dog.speak()     \n"
   ]
  },
  {
   "cell_type": "code",
   "execution_count": null,
   "id": "87cb74b4-ae12-467f-9e4c-f5fa33178391",
   "metadata": {},
   "outputs": [],
   "source": []
  }
 ],
 "metadata": {
  "kernelspec": {
   "display_name": "Python 3",
   "language": "python",
   "name": "python3"
  },
  "language_info": {
   "codemirror_mode": {
    "name": "ipython",
    "version": 3
   },
   "file_extension": ".py",
   "mimetype": "text/x-python",
   "name": "python",
   "nbconvert_exporter": "python",
   "pygments_lexer": "ipython3",
   "version": "3.8.8"
  }
 },
 "nbformat": 4,
 "nbformat_minor": 5
}
