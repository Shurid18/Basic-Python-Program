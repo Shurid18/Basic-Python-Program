{
 "cells": [
  {
   "cell_type": "markdown",
   "id": "3466b3d9",
   "metadata": {},
   "source": [
    "### Read data from income.csv and scale the relevant features using standardization"
   ]
  },
  {
   "cell_type": "code",
   "execution_count": 1,
   "id": "731e019d",
   "metadata": {},
   "outputs": [
    {
     "name": "stdout",
     "output_type": "stream",
     "text": [
      "        Name  Age  Income  Buy  Scaled_Age  Scaled_Income\n",
      "0        Rob   27   70000  Yes   -1.356055      -0.480684\n",
      "1    Michael   29   90000   No   -1.009157      -0.010159\n",
      "2      Mohan   29   61000  Yes   -1.009157      -0.692421\n",
      "3     Ismail   28   60000  Yes   -1.182606      -0.715947\n",
      "4       Kory   42  150000   No    1.245679       1.401417\n",
      "5     Gautam   39  155000  Yes    0.725332       1.519048\n",
      "6      David   41  160000  Yes    1.072230       1.636679\n",
      "7     Andrea   38  162000   No    0.551883       1.683732\n",
      "8       Brad   36  156000  Yes    0.204985       1.542574\n",
      "9   Angelina   35  130000   No    0.031536       0.930891\n",
      "10    Donald   37  137000   No    0.378434       1.095575\n",
      "11       Tom   26   45000   No   -1.529504      -1.068841\n",
      "12    Arnold   27   48000  Yes   -1.356055      -0.998262\n",
      "13     Jared   28   51000   No   -1.182606      -0.927683\n",
      "14     Stark   29   49500   No   -1.009157      -0.962973\n",
      "15    Ranbir   32   53000   No   -0.488811      -0.880631\n",
      "16    Dipika   40   65000  Yes    0.898781      -0.598316\n",
      "17  Priyanka   41   63000   No    1.072230      -0.645368\n",
      "18      Nick   43   64000  Yes    1.419128      -0.621842\n",
      "19      Alia   39   80000   No    0.725332      -0.245422\n",
      "20       Sid   41   82000  Yes    1.072230      -0.198369\n",
      "21     Abdul   39   58000   No    0.725332      -0.762999\n"
     ]
    }
   ],
   "source": [
    "import pandas as pd\n",
    "from sklearn.preprocessing import StandardScaler\n",
    "\n",
    "# 1. Load the data from income.csv\n",
    "df = pd.read_csv('income.csv')\n",
    "\n",
    "# 2. Select the relevant numerical features for scaling\n",
    "features_to_scale = ['Age', 'Income']\n",
    "data_to_scale = df[features_to_scale]\n",
    "\n",
    "# 3. Standardize the features\n",
    "scaler = StandardScaler()\n",
    "scaled_array = scaler.fit_transform(data_to_scale)\n",
    "\n",
    "# 4. Create a DataFrame for the scaled features\n",
    "scaled_df = pd.DataFrame(scaled_array, columns=[f'Scaled_{col}' for col in features_to_scale])\n",
    "\n",
    "# 5. Concatenate the scaled features with the original DataFrame\n",
    "result = pd.concat([df, scaled_df], axis=1)\n",
    "\n",
    "# 6. Display or save the result\n",
    "print(result)\n",
    "# Optionally, to save the result as a new CSV file:\n",
    "# result.to_csv('income_standardized.csv', index=False)\n"
   ]
  },
  {
   "cell_type": "code",
   "execution_count": null,
   "id": "6e5cb9d4",
   "metadata": {},
   "outputs": [],
   "source": []
  }
 ],
 "metadata": {
  "kernelspec": {
   "display_name": "Python 3",
   "language": "python",
   "name": "python3"
  },
  "language_info": {
   "codemirror_mode": {
    "name": "ipython",
    "version": 3
   },
   "file_extension": ".py",
   "mimetype": "text/x-python",
   "name": "python",
   "nbconvert_exporter": "python",
   "pygments_lexer": "ipython3",
   "version": "3.8.8"
  }
 },
 "nbformat": 4,
 "nbformat_minor": 5
}
