{
 "cells": [
  {
   "cell_type": "code",
   "execution_count": 21,
   "id": "9db764ef-f5e2-4948-bb77-4851fb4f9fb8",
   "metadata": {},
   "outputs": [
    {
     "name": "stdout",
     "output_type": "stream",
     "text": [
      "Enter elements of set A (comma separated):\n"
     ]
    },
    {
     "name": "stdin",
     "output_type": "stream",
     "text": [
      " 1,2,3,4,5\n"
     ]
    },
    {
     "name": "stdout",
     "output_type": "stream",
     "text": [
      "Enter elements of set B (comma seperated):\n"
     ]
    },
    {
     "name": "stdin",
     "output_type": "stream",
     "text": [
      " 4,5,6,7,8\n"
     ]
    },
    {
     "name": "stdout",
     "output_type": "stream",
     "text": [
      "Set A: {1, 2, 3, 4, 5}\n",
      "Set B: {4, 5, 6, 7, 8}\n",
      "Union (A|B): {1, 2, 3, 4, 5, 6, 7, 8}\n",
      "Intersection (A & B): {4, 5}\n",
      "Difference (A-B): {1, 2, 3}\n",
      "Difference (B-A): {8, 6, 7}\n"
     ]
    }
   ],
   "source": [
    "#Write a Python program that takes two sets from the user and computes their union, intersection, and difference. \n",
    "#A = {1, 2, 3, 4, 5}, B = {4, 5, 6, 7, 8}.\n",
    "print(\"Enter elements of set A (comma separated):\")\n",
    "set_a=set(input().split(','))\n",
    "\n",
    "print(\"Enter elements of set B (comma seperated):\")\n",
    "set_b=set(input().split(','))\n",
    "\n",
    "set_a = set(map(lambda x: int(x.strip()), set_a))\n",
    "set_b = set(map(lambda x: int(x.strip()), set_b))\n",
    "\n",
    "union= set_a | set_b\n",
    "intersection= set_a & set_b\n",
    "difference_ab= set_a - set_b\n",
    "difference_ba= set_b - set_a\n",
    "\n",
    "print(f\"Set A: {set_a}\")\n",
    "print(f\"Set B: {set_b}\")\n",
    "print(f\"Union (A|B): {union}\")\n",
    "print(f\"Intersection (A & B): {intersection}\")\n",
    "print(f\"Difference (A-B): {difference_ab}\")\n",
    "print(f\"Difference (B-A): {difference_ba}\")"
   ]
  },
  {
   "cell_type": "code",
   "execution_count": null,
   "id": "4bd0fa90-9fac-4ef3-8f3a-427445e25923",
   "metadata": {},
   "outputs": [],
   "source": []
  }
 ],
 "metadata": {
  "kernelspec": {
   "display_name": "Python 3",
   "language": "python",
   "name": "python3"
  },
  "language_info": {
   "codemirror_mode": {
    "name": "ipython",
    "version": 3
   },
   "file_extension": ".py",
   "mimetype": "text/x-python",
   "name": "python",
   "nbconvert_exporter": "python",
   "pygments_lexer": "ipython3",
   "version": "3.8.8"
  }
 },
 "nbformat": 4,
 "nbformat_minor": 5
}
