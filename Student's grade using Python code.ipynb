{
 "cells": [
  {
   "cell_type": "code",
   "execution_count": 1,
   "id": "5e1a4493",
   "metadata": {},
   "outputs": [
    {
     "name": "stdout",
     "output_type": "stream",
     "text": [
      "Enter student's score:55\n",
      "Grade: E\n"
     ]
    }
   ],
   "source": [
    "score=int(input(\"Enter student's score:\"))\n",
    "if score>=90 and score<=100:\n",
    "    grade = \"A\"\n",
    "elif score>=80 and score<=89:\n",
    "    grade = \"B\"\n",
    "elif score>=70 and score<=79:\n",
    "    grade = \"C\"\n",
    "elif score>=60 and score<=69:\n",
    "    grade = \"D\"\n",
    "elif score>=50 and score<=59:\n",
    "    grade = \"E\"\n",
    "elif score>=40 and score<=49:\n",
    "    grade =\"E-\"\n",
    "else:\n",
    "    grade =\"F or Fail\"\n",
    "print(\"Grade:\",grade)"
   ]
  },
  {
   "cell_type": "code",
   "execution_count": null,
   "id": "de3024fc",
   "metadata": {},
   "outputs": [],
   "source": []
  }
 ],
 "metadata": {
  "kernelspec": {
   "display_name": "Python 3",
   "language": "python",
   "name": "python3"
  },
  "language_info": {
   "codemirror_mode": {
    "name": "ipython",
    "version": 3
   },
   "file_extension": ".py",
   "mimetype": "text/x-python",
   "name": "python",
   "nbconvert_exporter": "python",
   "pygments_lexer": "ipython3",
   "version": "3.8.8"
  }
 },
 "nbformat": 4,
 "nbformat_minor": 5
}
