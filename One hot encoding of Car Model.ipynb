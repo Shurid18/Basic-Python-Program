{
 "cells": [
  {
   "cell_type": "code",
   "execution_count": 1,
   "id": "f7e7c42e",
   "metadata": {},
   "outputs": [
    {
     "name": "stdout",
     "output_type": "stream",
     "text": [
      "    Mileage  Sell Price($)  Age(yrs)  Car Model_Audi A5  Car Model_BMW X5  \\\n",
      "0     69000          18000         6                  0                 1   \n",
      "1     35000          34000         3                  0                 1   \n",
      "2     57000          26100         5                  0                 1   \n",
      "3     22500          40000         2                  0                 1   \n",
      "4     46000          31500         4                  0                 1   \n",
      "5     59000          29400         5                  1                 0   \n",
      "6     52000          32000         5                  1                 0   \n",
      "7     72000          19300         6                  1                 0   \n",
      "8     91000          12000         8                  1                 0   \n",
      "9     67000          22000         6                  0                 0   \n",
      "10    83000          20000         7                  0                 0   \n",
      "11    79000          21000         7                  0                 0   \n",
      "12    59000          33000         5                  0                 0   \n",
      "\n",
      "    Car Model_Mercedez Benz C class  \n",
      "0                                 0  \n",
      "1                                 0  \n",
      "2                                 0  \n",
      "3                                 0  \n",
      "4                                 0  \n",
      "5                                 0  \n",
      "6                                 0  \n",
      "7                                 0  \n",
      "8                                 0  \n",
      "9                                 1  \n",
      "10                                1  \n",
      "11                                1  \n",
      "12                                1  \n"
     ]
    }
   ],
   "source": [
    "import pandas as pd\n",
    "\n",
    "# Creating the DataFrame manually based on the image\n",
    "data = {\n",
    "    'Car Model': ['BMW X5', 'BMW X5', 'BMW X5', 'BMW X5', 'BMW X5',\n",
    "                  'Audi A5', 'Audi A5', 'Audi A5', 'Audi A5',\n",
    "                  'Mercedez Benz C class', 'Mercedez Benz C class', \n",
    "                  'Mercedez Benz C class', 'Mercedez Benz C class'],\n",
    "    'Mileage': [69000, 35000, 57000, 22500, 46000, \n",
    "                59000, 52000, 72000, 91000, \n",
    "                67000, 83000, 79000, 59000],\n",
    "    'Sell Price($)': [18000, 34000, 26100, 40000, 31500, \n",
    "                      29400, 32000, 19300, 12000, \n",
    "                      22000, 20000, 21000, 33000],\n",
    "    'Age(yrs)': [6, 3, 5, 2, 4, \n",
    "                 5, 5, 6, 8, \n",
    "                 6, 7, 7, 5]\n",
    "}\n",
    "\n",
    "df = pd.DataFrame(data)\n",
    "\n",
    "# One-hot encoding the 'Car Model' column\n",
    "df_encoded = pd.get_dummies(df, columns=['Car Model'])\n",
    "\n",
    "# Display the result\n",
    "print(df_encoded)"
   ]
  },
  {
   "cell_type": "code",
   "execution_count": null,
   "id": "407271a2",
   "metadata": {},
   "outputs": [],
   "source": []
  }
 ],
 "metadata": {
  "kernelspec": {
   "display_name": "Python 3",
   "language": "python",
   "name": "python3"
  },
  "language_info": {
   "codemirror_mode": {
    "name": "ipython",
    "version": 3
   },
   "file_extension": ".py",
   "mimetype": "text/x-python",
   "name": "python",
   "nbconvert_exporter": "python",
   "pygments_lexer": "ipython3",
   "version": "3.8.8"
  }
 },
 "nbformat": 4,
 "nbformat_minor": 5
}
